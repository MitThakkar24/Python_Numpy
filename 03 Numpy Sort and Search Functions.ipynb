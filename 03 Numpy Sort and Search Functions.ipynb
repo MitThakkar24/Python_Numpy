{
 "cells": [
  {
   "cell_type": "code",
   "execution_count": 1,
   "id": "307115b3",
   "metadata": {},
   "outputs": [],
   "source": [
    "import numpy as np "
   ]
  },
  {
   "cell_type": "code",
   "execution_count": 3,
   "id": "17234abe",
   "metadata": {},
   "outputs": [],
   "source": [
    "arr = np.array([1,2,22,3,4,55,6,6,7,7,8,8,8])"
   ]
  },
  {
   "cell_type": "code",
   "execution_count": 4,
   "id": "0efacd5f",
   "metadata": {},
   "outputs": [
    {
     "data": {
      "text/plain": [
       "array([ 1,  2, 22,  3,  4, 55,  6,  6,  7,  7,  8,  8,  8])"
      ]
     },
     "execution_count": 4,
     "metadata": {},
     "output_type": "execute_result"
    }
   ],
   "source": [
    "arr"
   ]
  },
  {
   "cell_type": "code",
   "execution_count": 5,
   "id": "10aa9811",
   "metadata": {},
   "outputs": [
    {
     "data": {
      "text/plain": [
       "array([ 1,  2,  3,  4,  6,  6,  7,  7,  8,  8,  8, 22, 55])"
      ]
     },
     "execution_count": 5,
     "metadata": {},
     "output_type": "execute_result"
    }
   ],
   "source": [
    "np.sort(arr)"
   ]
  },
  {
   "cell_type": "code",
   "execution_count": 6,
   "id": "4a108bf7",
   "metadata": {},
   "outputs": [
    {
     "data": {
      "text/plain": [
       "13"
      ]
     },
     "execution_count": 6,
     "metadata": {},
     "output_type": "execute_result"
    }
   ],
   "source": [
    "np.searchsorted(arr,32)"
   ]
  },
  {
   "cell_type": "code",
   "execution_count": 8,
   "id": "fea775d3",
   "metadata": {},
   "outputs": [],
   "source": [
    "arr = np.array([1,2,22,3,4,55,6,6,0,0,7,7,8,8,8])"
   ]
  },
  {
   "cell_type": "code",
   "execution_count": 10,
   "id": "158d6573",
   "metadata": {},
   "outputs": [
    {
     "data": {
      "text/plain": [
       "13"
      ]
     },
     "execution_count": 10,
     "metadata": {},
     "output_type": "execute_result"
    }
   ],
   "source": [
    "np.count_nonzero(arr)"
   ]
  },
  {
   "cell_type": "code",
   "execution_count": 11,
   "id": "29cb82d4",
   "metadata": {},
   "outputs": [
    {
     "data": {
      "text/plain": [
       "(array([ 2,  5, 10, 11, 12, 13, 14], dtype=int32),)"
      ]
     },
     "execution_count": 11,
     "metadata": {},
     "output_type": "execute_result"
    }
   ],
   "source": [
    "np.where(arr>6)"
   ]
  },
  {
   "cell_type": "code",
   "execution_count": 12,
   "id": "8aef78ff",
   "metadata": {},
   "outputs": [
    {
     "data": {
      "text/plain": [
       "array([22,  4, 55,  6,  6,  7,  7,  8,  8,  8])"
      ]
     },
     "execution_count": 12,
     "metadata": {},
     "output_type": "execute_result"
    }
   ],
   "source": [
    "np.extract(arr>3,arr)"
   ]
  },
  {
   "cell_type": "markdown",
   "id": "3650b793",
   "metadata": {},
   "source": [
    "# Numpy Byte Swapping"
   ]
  },
  {
   "cell_type": "code",
   "execution_count": 15,
   "id": "3c6456fd",
   "metadata": {},
   "outputs": [
    {
     "data": {
      "text/plain": [
       "array([ 16777216,  33554432, 369098752,  50331648,  67108864, 922746880,\n",
       "       100663296, 100663296,         0,         0, 117440512, 117440512,\n",
       "       134217728, 134217728, 134217728])"
      ]
     },
     "execution_count": 15,
     "metadata": {},
     "output_type": "execute_result"
    }
   ],
   "source": [
    "arr.byteswap()"
   ]
  },
  {
   "cell_type": "markdown",
   "id": "55829280",
   "metadata": {},
   "source": [
    "# Copies and Views "
   ]
  },
  {
   "cell_type": "code",
   "execution_count": 16,
   "id": "46f156e4",
   "metadata": {},
   "outputs": [
    {
     "data": {
      "text/plain": [
       "array([ 1,  2, 22,  3,  4, 55,  6,  6,  0,  0,  7,  7,  8,  8,  8])"
      ]
     },
     "execution_count": 16,
     "metadata": {},
     "output_type": "execute_result"
    }
   ],
   "source": [
    "arr"
   ]
  },
  {
   "cell_type": "code",
   "execution_count": 17,
   "id": "1485273a",
   "metadata": {},
   "outputs": [],
   "source": [
    "arr2 = np.copy(arr) # Deep copy"
   ]
  },
  {
   "cell_type": "code",
   "execution_count": 18,
   "id": "8f3eb7b4",
   "metadata": {},
   "outputs": [
    {
     "data": {
      "text/plain": [
       "array([ 1,  2, 22,  3,  4, 55,  6,  6,  0,  0,  7,  7,  8,  8,  8])"
      ]
     },
     "execution_count": 18,
     "metadata": {},
     "output_type": "execute_result"
    }
   ],
   "source": [
    "arr2"
   ]
  },
  {
   "cell_type": "code",
   "execution_count": 19,
   "id": "98bc7c71",
   "metadata": {},
   "outputs": [],
   "source": [
    "arr3 = arr.view() # shallow copy"
   ]
  },
  {
   "cell_type": "markdown",
   "id": "c7d92922",
   "metadata": {},
   "source": [
    "# Matrix library"
   ]
  },
  {
   "cell_type": "code",
   "execution_count": 20,
   "id": "d044d70a",
   "metadata": {},
   "outputs": [],
   "source": [
    "import numpy.matlib as nm"
   ]
  },
  {
   "cell_type": "code",
   "execution_count": 21,
   "id": "df62e107",
   "metadata": {},
   "outputs": [
    {
     "data": {
      "text/plain": [
       "matrix([[0., 0., 0., 0., 0.]])"
      ]
     },
     "execution_count": 21,
     "metadata": {},
     "output_type": "execute_result"
    }
   ],
   "source": [
    "nm.zeros(5)"
   ]
  },
  {
   "cell_type": "code",
   "execution_count": 23,
   "id": "4e3b57dc",
   "metadata": {},
   "outputs": [
    {
     "data": {
      "text/plain": [
       "array([[1., 1.],\n",
       "       [1., 1.],\n",
       "       [1., 1.],\n",
       "       [1., 1.],\n",
       "       [1., 1.]])"
      ]
     },
     "execution_count": 23,
     "metadata": {},
     "output_type": "execute_result"
    }
   ],
   "source": [
    "np.ones((5,2))"
   ]
  },
  {
   "cell_type": "markdown",
   "id": "8fb0a7e0",
   "metadata": {},
   "source": [
    "# Numpy Linear Algebra"
   ]
  },
  {
   "cell_type": "code",
   "execution_count": 31,
   "id": "c78d0737",
   "metadata": {},
   "outputs": [],
   "source": [
    "arr1 = np.random.randint(1,10,[2,2])\n",
    "arr2 = np.random.randint(1,10,[2,2])"
   ]
  },
  {
   "cell_type": "code",
   "execution_count": 32,
   "id": "21e52357",
   "metadata": {},
   "outputs": [
    {
     "data": {
      "text/plain": [
       "array([[68, 56],\n",
       "       [73, 77]])"
      ]
     },
     "execution_count": 32,
     "metadata": {},
     "output_type": "execute_result"
    }
   ],
   "source": [
    "np.dot(arr1,arr2)"
   ]
  },
  {
   "cell_type": "code",
   "execution_count": 33,
   "id": "213b7b4c",
   "metadata": {},
   "outputs": [
    {
     "data": {
      "text/plain": [
       "array([[68, 56],\n",
       "       [73, 77]])"
      ]
     },
     "execution_count": 33,
     "metadata": {},
     "output_type": "execute_result"
    }
   ],
   "source": [
    "arr1@arr2"
   ]
  },
  {
   "cell_type": "code",
   "execution_count": null,
   "id": "2be2c89f",
   "metadata": {},
   "outputs": [],
   "source": []
  }
 ],
 "metadata": {
  "kernelspec": {
   "display_name": "Python 3 (ipykernel)",
   "language": "python",
   "name": "python3"
  },
  "language_info": {
   "codemirror_mode": {
    "name": "ipython",
    "version": 3
   },
   "file_extension": ".py",
   "mimetype": "text/x-python",
   "name": "python",
   "nbconvert_exporter": "python",
   "pygments_lexer": "ipython3",
   "version": "3.9.7"
  }
 },
 "nbformat": 4,
 "nbformat_minor": 5
}
